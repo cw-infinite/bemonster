{
  "nbformat": 4,
  "nbformat_minor": 0,
  "metadata": {
    "colab": {
      "name": "tensorFlowPractice1.ipynb",
      "provenance": [],
      "toc_visible": true,
      "authorship_tag": "ABX9TyPwZ3hJxvswVCePhMq5EnUc",
      "include_colab_link": true
    },
    "kernelspec": {
      "name": "python3",
      "display_name": "Python 3"
    }
  },
  "cells": [
    {
      "cell_type": "markdown",
      "metadata": {
        "id": "view-in-github",
        "colab_type": "text"
      },
      "source": [
        "<a href=\"https://colab.research.google.com/github/cw-infinite/graphicachu/blob/master/tensorFlowPractice1.ipynb\" target=\"_parent\"><img src=\"https://colab.research.google.com/assets/colab-badge.svg\" alt=\"Open In Colab\"/></a>"
      ]
    },
    {
      "cell_type": "code",
      "metadata": {
        "id": "gNv3vS-J9tHE"
      },
      "source": [
        "import matplotlib.pyplot as plt\r\n",
        "import numpy as np\r\n",
        "\r\n",
        "x = [1, 2, 2.5, 3, 4]\r\n",
        "y = [1, 4, 7, 9, 15]\r\n",
        "plt.plot(x, y, 'ro')\r\n",
        "plt.axis([0, 6, 0, 20])"
      ],
      "execution_count": null,
      "outputs": []
    },
    {
      "cell_type": "code",
      "metadata": {
        "id": "AyMJg-p6D2j1"
      },
      "source": [
        "!pip install -q sklearn "
      ],
      "execution_count": 1,
      "outputs": []
    },
    {
      "cell_type": "code",
      "metadata": {
        "id": "y3fAjy6GECC8"
      },
      "source": [
        "%tensorflow_version 2.x # TensorFlow version"
      ],
      "execution_count": 2,
      "outputs": []
    },
    {
      "cell_type": "code",
      "metadata": {
        "id": "hUjFjSbnEDUM"
      },
      "source": [
        "# Setup imports\r\n",
        "from __future__ import absolute_import, division, print_function, unicode_literals\r\n",
        "\r\n",
        "import numpy as np\r\n",
        "import pandas as pd\r\n",
        "import matplotlib.pyplot as plt\r\n",
        "from IPython.display import clear_output\r\n",
        "from six.moves import urllib\r\n",
        "\r\n",
        "import tensorflow.compat.v2.feature_column as fc\r\n",
        "\r\n",
        "import tensorflow as tf"
      ],
      "execution_count": 3,
      "outputs": []
    },
    {
      "cell_type": "code",
      "metadata": {
        "colab": {
          "base_uri": "https://localhost:8080/"
        },
        "id": "hGJoTVowHOoa",
        "outputId": "42c263cf-c71c-43a5-ccd1-226468d57ec3"
      },
      "source": [
        "dfsuicide = pd.read_csv('/content/suicide_korea.csv')\r\n",
        "#y_train = dftrain.pop('survived')\r\n",
        "print(dfsuicide)"
      ],
      "execution_count": 20,
      "outputs": [
        {
          "output_type": "stream",
          "text": [
            "               Country  Year  Gender  ... SuicidesNo  Population  Suicides100kPop\n",
            "0    Republic of Korea  1985    male  ...         42      154800            27.13\n",
            "1    Republic of Korea  1985    male  ...        393     1498300            26.23\n",
            "2    Republic of Korea  1985    male  ...        903     4285700            21.07\n",
            "3    Republic of Korea  1985    male  ...        655     3616800            18.11\n",
            "4    Republic of Korea  1985    male  ...        678     4413000            15.36\n",
            "..                 ...   ...     ...  ...        ...         ...              ...\n",
            "367  Republic of Korea  2015  female  ...       1372     8337331            16.46\n",
            "368  Republic of Korea  2015    male  ...        421     3580725            11.76\n",
            "369  Republic of Korea  2015  female  ...        256     3211732             7.97\n",
            "370  Republic of Korea  2015    male  ...         17     2523952             0.67\n",
            "371  Republic of Korea  2015  female  ...         14     2347429             0.60\n",
            "\n",
            "[372 rows x 7 columns]\n"
          ],
          "name": "stdout"
        }
      ]
    },
    {
      "cell_type": "code",
      "metadata": {
        "colab": {
          "base_uri": "https://localhost:8080/",
          "height": 289
        },
        "id": "fu7wnvzdL2jo",
        "outputId": "51d9271e-d6b8-4f6a-caf3-fa51c66e3c27"
      },
      "source": [
        "dfsuicide.head() # first 5 items in dataframe df."
      ],
      "execution_count": 9,
      "outputs": [
        {
          "output_type": "execute_result",
          "data": {
            "text/html": [
              "<div>\n",
              "<style scoped>\n",
              "    .dataframe tbody tr th:only-of-type {\n",
              "        vertical-align: middle;\n",
              "    }\n",
              "\n",
              "    .dataframe tbody tr th {\n",
              "        vertical-align: top;\n",
              "    }\n",
              "\n",
              "    .dataframe thead th {\n",
              "        text-align: right;\n",
              "    }\n",
              "</style>\n",
              "<table border=\"1\" class=\"dataframe\">\n",
              "  <thead>\n",
              "    <tr style=\"text-align: right;\">\n",
              "      <th></th>\n",
              "      <th>Country</th>\n",
              "      <th>Year</th>\n",
              "      <th>Gender</th>\n",
              "      <th>Age</th>\n",
              "      <th>SuicidesNo</th>\n",
              "      <th>Population</th>\n",
              "      <th>Suicides100kPop</th>\n",
              "    </tr>\n",
              "  </thead>\n",
              "  <tbody>\n",
              "    <tr>\n",
              "      <th>0</th>\n",
              "      <td>Republic of Korea</td>\n",
              "      <td>1985</td>\n",
              "      <td>male</td>\n",
              "      <td>75+ years</td>\n",
              "      <td>42</td>\n",
              "      <td>154800</td>\n",
              "      <td>27.13</td>\n",
              "    </tr>\n",
              "    <tr>\n",
              "      <th>1</th>\n",
              "      <td>Republic of Korea</td>\n",
              "      <td>1985</td>\n",
              "      <td>male</td>\n",
              "      <td>55-74 years</td>\n",
              "      <td>393</td>\n",
              "      <td>1498300</td>\n",
              "      <td>26.23</td>\n",
              "    </tr>\n",
              "    <tr>\n",
              "      <th>2</th>\n",
              "      <td>Republic of Korea</td>\n",
              "      <td>1985</td>\n",
              "      <td>male</td>\n",
              "      <td>35-54 years</td>\n",
              "      <td>903</td>\n",
              "      <td>4285700</td>\n",
              "      <td>21.07</td>\n",
              "    </tr>\n",
              "    <tr>\n",
              "      <th>3</th>\n",
              "      <td>Republic of Korea</td>\n",
              "      <td>1985</td>\n",
              "      <td>male</td>\n",
              "      <td>25-34 years</td>\n",
              "      <td>655</td>\n",
              "      <td>3616800</td>\n",
              "      <td>18.11</td>\n",
              "    </tr>\n",
              "    <tr>\n",
              "      <th>4</th>\n",
              "      <td>Republic of Korea</td>\n",
              "      <td>1985</td>\n",
              "      <td>male</td>\n",
              "      <td>15-24 years</td>\n",
              "      <td>678</td>\n",
              "      <td>4413000</td>\n",
              "      <td>15.36</td>\n",
              "    </tr>\n",
              "  </tbody>\n",
              "</table>\n",
              "</div>"
            ],
            "text/plain": [
              "             Country  Year Gender  ... SuicidesNo  Population  Suicides100kPop\n",
              "0  Republic of Korea  1985   male  ...         42      154800            27.13\n",
              "1  Republic of Korea  1985   male  ...        393     1498300            26.23\n",
              "2  Republic of Korea  1985   male  ...        903     4285700            21.07\n",
              "3  Republic of Korea  1985   male  ...        655     3616800            18.11\n",
              "4  Republic of Korea  1985   male  ...        678     4413000            15.36\n",
              "\n",
              "[5 rows x 7 columns]"
            ]
          },
          "metadata": {
            "tags": []
          },
          "execution_count": 9
        }
      ]
    },
    {
      "cell_type": "code",
      "metadata": {
        "id": "voVXS7YGL3kf"
      },
      "source": [
        "dfsuicide.describe() # more statistical analysis"
      ],
      "execution_count": null,
      "outputs": []
    },
    {
      "cell_type": "code",
      "metadata": {
        "colab": {
          "base_uri": "https://localhost:8080/"
        },
        "id": "9TyV4vHRMCXB",
        "outputId": "28e4fb79-490e-431b-cf72-5254296d2e35"
      },
      "source": [
        "dfsuicide.shape \r\n",
        "# In tensorflow row = entry, column = feature so  372 entries and 7 features"
      ],
      "execution_count": 11,
      "outputs": [
        {
          "output_type": "execute_result",
          "data": {
            "text/plain": [
              "(372, 7)"
            ]
          },
          "metadata": {
            "tags": []
          },
          "execution_count": 11
        }
      ]
    },
    {
      "cell_type": "markdown",
      "metadata": {
        "id": "2lu7G5k3P5DX"
      },
      "source": [
        "Problem: this dataset is not yet cleaned categorically so need a clean up\r\n",
        "Goal: \r\n",
        "\r\n",
        "\r\n",
        "1.   suicide count on each year (male + female + all age)\r\n",
        "2.   suicide count by gender \r\n",
        "3.   suicide rate on year / age group\r\n",
        "\r\n",
        "Ref: https://www.kaggle.com/sadiqshah/suicides-rates-1985-2016-in-rf, Code Tab\r\n",
        "\r\n"
      ]
    },
    {
      "cell_type": "code",
      "metadata": {
        "colab": {
          "base_uri": "https://localhost:8080/"
        },
        "id": "-ruSvPcKP44B",
        "outputId": "b5b0cf0d-6775-4184-fe0f-ac031780a256"
      },
      "source": [
        "dfsuicide.groupby(['Gender'])['SuicidesNo'].sum()"
      ],
      "execution_count": 22,
      "outputs": [
        {
          "output_type": "execute_result",
          "data": {
            "text/plain": [
              "Gender\n",
              "female     82615\n",
              "male      179115\n",
              "Name: SuicidesNo, dtype: int64"
            ]
          },
          "metadata": {
            "tags": []
          },
          "execution_count": 22
        }
      ]
    },
    {
      "cell_type": "code",
      "metadata": {
        "id": "LcaTYAfPSwWK"
      },
      "source": [
        ""
      ],
      "execution_count": null,
      "outputs": []
    },
    {
      "cell_type": "code",
      "metadata": {
        "id": "26BCpFSKFFN2"
      },
      "source": [
        "def make_input_fn(data_df, label_df, num_epochs=10, shuffle=True, batch_size=32):\r\n",
        "  def input_function():  # inner function, this will be returned\r\n",
        "    ds = tf.data.Dataset.from_tensor_slices((dict(data_df), label_df))  # create tf.data.Dataset object with data and its label\r\n",
        "    if shuffle:\r\n",
        "      ds = ds.shuffle(1000)  # randomize order of data\r\n",
        "    ds = ds.batch(batch_size).repeat(num_epochs)  # split dataset into batches of 32 and repeat process for number of epochs\r\n",
        "    return ds  # return a batch of the dataset\r\n",
        "  return input_function  # return a function object for use\r\n",
        "\r\n",
        "train_input_fn = make_input_fn(dftrain, y_train)  # here we will call the input_function that was returned to us to get a dataset object we can feed to the model\r\n",
        "eval_input_fn = make_input_fn(dfeval, y_eval, num_epochs=1, shuffle=False)"
      ],
      "execution_count": null,
      "outputs": []
    }
  ]
}